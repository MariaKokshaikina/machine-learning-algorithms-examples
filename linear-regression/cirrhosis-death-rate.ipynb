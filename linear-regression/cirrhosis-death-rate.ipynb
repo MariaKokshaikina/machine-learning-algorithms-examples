{
 "cells": [
  {
   "cell_type": "markdown",
   "metadata": {},
   "source": [
    "## Task\n",
    "Try to predict death rate from cirrhosis"
   ]
  },
  {
   "cell_type": "code",
   "execution_count": 1,
   "metadata": {
    "collapsed": true
   },
   "outputs": [],
   "source": [
    "import pandas as pd\n",
    "import numpy as np"
   ]
  },
  {
   "cell_type": "code",
   "execution_count": 2,
   "metadata": {},
   "outputs": [
    {
     "data": {
      "text/html": [
       "<div>\n",
       "<style>\n",
       "    .dataframe thead tr:only-child th {\n",
       "        text-align: right;\n",
       "    }\n",
       "\n",
       "    .dataframe thead th {\n",
       "        text-align: left;\n",
       "    }\n",
       "\n",
       "    .dataframe tbody tr th {\n",
       "        vertical-align: top;\n",
       "    }\n",
       "</style>\n",
       "<table border=\"1\" class=\"dataframe\">\n",
       "  <thead>\n",
       "    <tr style=\"text-align: right;\">\n",
       "      <th></th>\n",
       "      <th>Urban</th>\n",
       "      <th>Latebirths</th>\n",
       "      <th>Wine</th>\n",
       "      <th>Liquor</th>\n",
       "      <th>CirrhosisDeath</th>\n",
       "    </tr>\n",
       "    <tr>\n",
       "      <th>Index</th>\n",
       "      <th></th>\n",
       "      <th></th>\n",
       "      <th></th>\n",
       "      <th></th>\n",
       "      <th></th>\n",
       "    </tr>\n",
       "  </thead>\n",
       "  <tbody>\n",
       "    <tr>\n",
       "      <th>1</th>\n",
       "      <td>44</td>\n",
       "      <td>33.2</td>\n",
       "      <td>5</td>\n",
       "      <td>30</td>\n",
       "      <td>41.2</td>\n",
       "    </tr>\n",
       "    <tr>\n",
       "      <th>2</th>\n",
       "      <td>43</td>\n",
       "      <td>33.8</td>\n",
       "      <td>4</td>\n",
       "      <td>41</td>\n",
       "      <td>31.7</td>\n",
       "    </tr>\n",
       "    <tr>\n",
       "      <th>3</th>\n",
       "      <td>48</td>\n",
       "      <td>40.6</td>\n",
       "      <td>3</td>\n",
       "      <td>38</td>\n",
       "      <td>39.4</td>\n",
       "    </tr>\n",
       "    <tr>\n",
       "      <th>4</th>\n",
       "      <td>52</td>\n",
       "      <td>39.2</td>\n",
       "      <td>7</td>\n",
       "      <td>48</td>\n",
       "      <td>57.5</td>\n",
       "    </tr>\n",
       "    <tr>\n",
       "      <th>5</th>\n",
       "      <td>71</td>\n",
       "      <td>45.5</td>\n",
       "      <td>11</td>\n",
       "      <td>53</td>\n",
       "      <td>74.8</td>\n",
       "    </tr>\n",
       "  </tbody>\n",
       "</table>\n",
       "</div>"
      ],
      "text/plain": [
       "       Urban  Latebirths  Wine  Liquor  CirrhosisDeath\n",
       "Index                                                 \n",
       "1         44        33.2     5      30            41.2\n",
       "2         43        33.8     4      41            31.7\n",
       "3         48        40.6     3      38            39.4\n",
       "4         52        39.2     7      48            57.5\n",
       "5         71        45.5    11      53            74.8"
      ]
     },
     "execution_count": 2,
     "metadata": {},
     "output_type": "execute_result"
    }
   ],
   "source": [
    "# read data\n",
    "\n",
    "data = pd.read_csv('data.csv', delimiter=';', index_col='Index')\n",
    "data.head(5)"
   ]
  },
  {
   "cell_type": "code",
   "execution_count": 3,
   "metadata": {},
   "outputs": [],
   "source": [
    "# split into train and test dataset\n",
    "\n",
    "ratio = 0.67\n",
    "n_train = int(len(data) * ratio)\n",
    "n_test = len(data) - n_train\n",
    "indexes = np.zeros(data.shape[0])\n",
    "indexes[np.random.choice(len(data), n_train, replace=False)] = 1\n",
    "\n",
    "X = np.array(data[indexes == 1].values)[:,:-1]\n",
    "y = np.array(data[indexes == 1].values)[:,-1]\n",
    "test_x = np.array(data[indexes == 0].values)[:,:-1]\n",
    "test_y = np.array(data[indexes == 0].values)[:,-1]"
   ]
  },
  {
   "cell_type": "code",
   "execution_count": 4,
   "metadata": {},
   "outputs": [],
   "source": [
    "# regularize data\n",
    "\n",
    "means, stds = X.mean(axis=0), X.std(axis=0)\n",
    "X = (X - means) / stds"
   ]
  },
  {
   "cell_type": "code",
   "execution_count": 5,
   "metadata": {},
   "outputs": [
    {
     "data": {
      "text/plain": [
       "array([[ 1.        , -0.80360804, -1.02819322, -1.05735107, -0.7091093 ],\n",
       "       [ 1.        , -0.48471596, -0.05622187, -1.19119298, -0.83674897],\n",
       "       [ 1.        , -0.2296023 , -0.25633362, -0.65582535, -0.41128339],\n",
       "       [ 1.        ,  0.9821876 ,  0.64416925, -0.12045772, -0.1985506 ],\n",
       "       [ 1.        , -0.73982962, -0.49932646, -0.38814153,  0.31200809]])"
      ]
     },
     "execution_count": 5,
     "metadata": {},
     "output_type": "execute_result"
    }
   ],
   "source": [
    "X = np.hstack((np.ones((X.shape[0], 1)), X))\n",
    "X[:5]"
   ]
  },
  {
   "cell_type": "code",
   "execution_count": 6,
   "metadata": {
    "collapsed": true
   },
   "outputs": [],
   "source": [
    "def mserror(y, y_pred):\n",
    "    # mean square error of prediction\n",
    "    return sum((y-y_pred)**2)"
   ]
  },
  {
   "cell_type": "code",
   "execution_count": 7,
   "metadata": {
    "collapsed": true
   },
   "outputs": [],
   "source": [
    "def linear_prediction(X, w):\n",
    "    # linear prediction for X with weights w\n",
    "    return X.dot(w)"
   ]
  },
  {
   "cell_type": "markdown",
   "metadata": {},
   "source": [
    "$$\\Large w_0 \\leftarrow w_0 - \\frac{2\\eta}{\\ell} {((w_0 + w_1x_{k1} + w_2x_{k2} +  w_3x_{k3}) - y_k)}$$\n",
    "$$\\Large w_j \\leftarrow w_j - \\frac{2\\eta}{\\ell} {x_{kj}((w_0 + w_1x_{k1} + w_2x_{k2} +  w_3x_{k3}) - y_k)},\\ j \\in \\{1,2,3\\}$$"
   ]
  },
  {
   "cell_type": "code",
   "execution_count": 8,
   "metadata": {
    "collapsed": true
   },
   "outputs": [],
   "source": [
    "def stochastic_gradient_step(X, y, w, train_ind, eta=0.01):\n",
    "    # count gradient for current iteration\n",
    "    prediction = linear_prediction(X[train_ind], w)\n",
    "    answer = y[train_ind]\n",
    "    difference = prediction - answer\n",
    "    grads = []\n",
    "    grad_0 =  difference\n",
    "    grads.append(grad_0)\n",
    "    for i in range(1, len(X[train_ind])):\n",
    "        grad_i = X[train_ind][i] * difference\n",
    "        grads.append(grad_i)\n",
    "    return  w - 2 * eta / len(X) * np.array(grads)"
   ]
  },
  {
   "cell_type": "code",
   "execution_count": 9,
   "metadata": {
    "collapsed": true
   },
   "outputs": [],
   "source": [
    "def stochastic_gradient_descent(X, y, w_init, eta=1e-2, max_iter=1e4,\n",
    "                                min_weight_dist=1e-8, seed=42, verbose=False):\n",
    "    # use stochastic gradient descent in order to find the most exact weights\n",
    "    weight_dist = np.inf # init difference between current and previous weights\n",
    "    w = w_init # init weights with given value\n",
    "    errors = [] # errors between predicted and real results in dataset\n",
    "    iter_num = 0\n",
    "    np.random.seed(seed)\n",
    "        \n",
    "    while weight_dist > min_weight_dist and iter_num < max_iter:\n",
    "        random_ind = np.random.randint(X.shape[0])\n",
    "        \n",
    "        w_moved = stochastic_gradient_step(X, y, w, random_ind, eta) # weights moved by gradiend descent\n",
    "        weight_dist = np.sqrt(np.sum((w_moved-w)**2)) \n",
    "        w = w_moved\n",
    "        \n",
    "        y_pred = linear_prediction(X, w)\n",
    "        errors.append(mserror(y, y_pred)) # count error on dataset\n",
    "        if verbose:\n",
    "            print(w)\n",
    "        iter_num += 1\n",
    "        \n",
    "    return w, errors"
   ]
  },
  {
   "cell_type": "code",
   "execution_count": 10,
   "metadata": {},
   "outputs": [
    {
     "name": "stdout",
     "output_type": "stream",
     "text": [
      "[ 63.16034723  -2.9633526   15.18488639  16.8520481   -2.98879879]\n",
      "CPU times: user 3.05 s, sys: 3.67 ms, total: 3.05 s\n",
      "Wall time: 3.04 s\n"
     ]
    }
   ],
   "source": [
    "%%time\n",
    "w_init = np.full(X.shape[1], 0)\n",
    "stoch_grad_desc_weights, stoch_errors_by_iter = stochastic_gradient_descent(X, y, w_init, max_iter=1e5, verbose=False)\n",
    "print(stoch_grad_desc_weights)"
   ]
  },
  {
   "cell_type": "code",
   "execution_count": 11,
   "metadata": {},
   "outputs": [
    {
     "name": "stdout",
     "output_type": "stream",
     "text": [
      "Error by iter\n",
      "Populating the interactive namespace from numpy and matplotlib\n"
     ]
    },
    {
     "data": {
      "text/plain": [
       "Text(0,0.5,'MSE')"
      ]
     },
     "execution_count": 11,
     "metadata": {},
     "output_type": "execute_result"
    },
    {
     "data": {
      "image/png": "[encoded data removed]",
      "text/plain": [
       "<matplotlib.figure.Figure at 0x7fdde4f3b4e0>"
      ]
     },
     "metadata": {},
     "output_type": "display_data"
    }
   ],
   "source": [
    "print ('Error by iter')\n",
    "%pylab inline\n",
    "plot(range(len(stoch_errors_by_iter)), stoch_errors_by_iter)\n",
    "xlabel('Iteration number')\n",
    "ylabel('MSE')"
   ]
  },
  {
   "cell_type": "code",
   "execution_count": 12,
   "metadata": {},
   "outputs": [
    {
     "name": "stdout",
     "output_type": "stream",
     "text": [
      "Result error 3007.65626244\n"
     ]
    }
   ],
   "source": [
    "print ('Result error', stoch_errors_by_iter[-1])"
   ]
  },
  {
   "cell_type": "code",
   "execution_count": 13,
   "metadata": {},
   "outputs": [
    {
     "name": "stdout",
     "output_type": "stream",
     "text": [
      "Result weights\n"
     ]
    },
    {
     "data": {
      "text/plain": [
       "array([ 63.16034723,  -2.9633526 ,  15.18488639,  16.8520481 ,  -2.98879879])"
      ]
     },
     "execution_count": 13,
     "metadata": {},
     "output_type": "execute_result"
    }
   ],
   "source": [
    "print ('Result weights')\n",
    "stoch_grad_desc_weights"
   ]
  },
  {
   "cell_type": "code",
   "execution_count": 14,
   "metadata": {},
   "outputs": [],
   "source": [
    "# means, stds from training data\n",
    "test_x = (test_x - means) / stds"
   ]
  },
  {
   "cell_type": "code",
   "execution_count": 15,
   "metadata": {
    "collapsed": true
   },
   "outputs": [],
   "source": [
    "test_x = np.hstack((np.ones((test_x.shape[0], 1)), test_x))"
   ]
  },
  {
   "cell_type": "code",
   "execution_count": 16,
   "metadata": {},
   "outputs": [],
   "source": [
    "test_y_pred = test_x.dot(stoch_grad_desc_weights)"
   ]
  },
  {
   "cell_type": "code",
   "execution_count": 17,
   "metadata": {},
   "outputs": [
    {
     "data": {
      "text/html": [
       "<div>\n",
       "<style>\n",
       "    .dataframe thead tr:only-child th {\n",
       "        text-align: right;\n",
       "    }\n",
       "\n",
       "    .dataframe thead th {\n",
       "        text-align: left;\n",
       "    }\n",
       "\n",
       "    .dataframe tbody tr th {\n",
       "        vertical-align: top;\n",
       "    }\n",
       "</style>\n",
       "<table border=\"1\" class=\"dataframe\">\n",
       "  <thead>\n",
       "    <tr style=\"text-align: right;\">\n",
       "      <th></th>\n",
       "      <th>0</th>\n",
       "      <th>Predicted</th>\n",
       "    </tr>\n",
       "  </thead>\n",
       "  <tbody>\n",
       "    <tr>\n",
       "      <th>0</th>\n",
       "      <td>41.2</td>\n",
       "      <td>36.392595</td>\n",
       "    </tr>\n",
       "    <tr>\n",
       "      <th>1</th>\n",
       "      <td>54.3</td>\n",
       "      <td>54.598416</td>\n",
       "    </tr>\n",
       "    <tr>\n",
       "      <th>2</th>\n",
       "      <td>80.9</td>\n",
       "      <td>72.915177</td>\n",
       "    </tr>\n",
       "    <tr>\n",
       "      <th>3</th>\n",
       "      <td>57.8</td>\n",
       "      <td>81.304247</td>\n",
       "    </tr>\n",
       "    <tr>\n",
       "      <th>4</th>\n",
       "      <td>62.8</td>\n",
       "      <td>44.519749</td>\n",
       "    </tr>\n",
       "    <tr>\n",
       "      <th>5</th>\n",
       "      <td>67.3</td>\n",
       "      <td>47.309175</td>\n",
       "    </tr>\n",
       "    <tr>\n",
       "      <th>6</th>\n",
       "      <td>37.6</td>\n",
       "      <td>36.767609</td>\n",
       "    </tr>\n",
       "    <tr>\n",
       "      <th>7</th>\n",
       "      <td>83.6</td>\n",
       "      <td>86.065822</td>\n",
       "    </tr>\n",
       "    <tr>\n",
       "      <th>8</th>\n",
       "      <td>66.0</td>\n",
       "      <td>62.610506</td>\n",
       "    </tr>\n",
       "    <tr>\n",
       "      <th>9</th>\n",
       "      <td>66.6</td>\n",
       "      <td>61.251910</td>\n",
       "    </tr>\n",
       "    <tr>\n",
       "      <th>10</th>\n",
       "      <td>74.3</td>\n",
       "      <td>80.391160</td>\n",
       "    </tr>\n",
       "    <tr>\n",
       "      <th>11</th>\n",
       "      <td>48.0</td>\n",
       "      <td>58.947389</td>\n",
       "    </tr>\n",
       "    <tr>\n",
       "      <th>12</th>\n",
       "      <td>97.5</td>\n",
       "      <td>113.351716</td>\n",
       "    </tr>\n",
       "    <tr>\n",
       "      <th>13</th>\n",
       "      <td>90.5</td>\n",
       "      <td>85.910999</td>\n",
       "    </tr>\n",
       "    <tr>\n",
       "      <th>14</th>\n",
       "      <td>29.7</td>\n",
       "      <td>27.813871</td>\n",
       "    </tr>\n",
       "    <tr>\n",
       "      <th>15</th>\n",
       "      <td>55.5</td>\n",
       "      <td>71.364407</td>\n",
       "    </tr>\n",
       "  </tbody>\n",
       "</table>\n",
       "</div>"
      ],
      "text/plain": [
       "       0   Predicted\n",
       "0   41.2   36.392595\n",
       "1   54.3   54.598416\n",
       "2   80.9   72.915177\n",
       "3   57.8   81.304247\n",
       "4   62.8   44.519749\n",
       "5   67.3   47.309175\n",
       "6   37.6   36.767609\n",
       "7   83.6   86.065822\n",
       "8   66.0   62.610506\n",
       "9   66.6   61.251910\n",
       "10  74.3   80.391160\n",
       "11  48.0   58.947389\n",
       "12  97.5  113.351716\n",
       "13  90.5   85.910999\n",
       "14  29.7   27.813871\n",
       "15  55.5   71.364407"
      ]
     },
     "execution_count": 17,
     "metadata": {},
     "output_type": "execute_result"
    }
   ],
   "source": [
    "test_y = pd.DataFrame(test_y)\n",
    "test_y['Predicted'] = test_y_pred\n",
    "test_y"
   ]
  },
  {
   "cell_type": "markdown",
   "metadata": {},
   "source": [
    "## Conclusion\n",
    "In this case linear regression has shown not so good results sometimes. I suppose because of small sample of data."
   ]
  }
 ],
 "metadata": {
  "kernelspec": {
   "display_name": "Python 3",
   "language": "python",
   "name": "python3"
  },
  "language_info": {
   "codemirror_mode": {
    "name": "ipython",
    "version": 3
   },
   "file_extension": ".py",
   "mimetype": "text/x-python",
   "name": "python",
   "nbconvert_exporter": "python",
   "pygments_lexer": "ipython3",
   "version": "3.6.3"
  }
 },
 "nbformat": 4,
 "nbformat_minor": 2
}
