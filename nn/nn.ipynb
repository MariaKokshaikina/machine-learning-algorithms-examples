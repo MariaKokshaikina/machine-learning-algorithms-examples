{
 "cells": [
  {
   "cell_type": "code",
   "execution_count": 1,
   "metadata": {
    "collapsed": true
   },
   "outputs": [],
   "source": [
    "import numpy as np\n",
    "from matplotlib import pyplot as plt"
   ]
  },
  {
   "cell_type": "code",
   "execution_count": 2,
   "metadata": {
    "collapsed": true
   },
   "outputs": [],
   "source": [
    "class NeuralNetwork:\n",
    "    \n",
    "    def __init__(self, inputLayerSize, hiddenLayerSize, outputLayerSize):\n",
    "        self.inputLayerSize = inputLayerSize\n",
    "        self.hiddenLayerSize = hiddenLayerSize\n",
    "        self.outputLayerSize = outputLayerSize \n",
    "        self.w1 = np.random.randn(self.inputLayerSize,self.hiddenLayerSize)\n",
    "        self.w2 = np.random.randn(self.hiddenLayerSize,self.outputLayerSize)    \n",
    "    \n",
    "    def activationFunction(self, z):\n",
    "        return 1 / (1 + np.exp(-z))\n",
    "    def activationFunctionPrime(self, z):\n",
    "        return self.activationFunction(z) * (1 - self.activationFunction(z))    \n",
    "    \n",
    "    def forward(self):\n",
    "        self.z2 = np.dot(self.x, self.w1)\n",
    "        self.a = self.activationFunction(self.z2)\n",
    "        self.z3 = np.dot(self.a, self.w2)\n",
    "        self.yHat = self.activationFunction(self.z3)   \n",
    "        \n",
    "    def costFunctionPrime(self):\n",
    "        self.a = self.a[:,np.newaxis]\n",
    "        self.z3 = self.z3[:,np.newaxis]        \n",
    "        self.x = self.x[:,np.newaxis]\n",
    "\n",
    "        delta3 = np.multiply(-(self.y-self.yHat), self.activationFunctionPrime(self.z3))\n",
    "        dJdw2 = np.dot(self.a, delta3)\n",
    "\n",
    "        delta2 = np.dot(delta3, self.w2.T)*self.activationFunctionPrime(self.z2)\n",
    "        dJdw1 = np.dot(self.x, delta2)\n",
    "        \n",
    "        return dJdw1, dJdw2\n",
    "    \n",
    "    def backward(self):    \n",
    "        dJdw1, dJdw2 = self.costFunctionPrime()\n",
    "        self.w1 = self.w1 - dJdw1 * self.eta\n",
    "        self.w2 = self.w2 - dJdw2 * self.eta\n",
    "        \n",
    "    def error(self, y, yHat):\n",
    "        return sum((y - yHat) ** 2)\n",
    "        \n",
    "    def train(self, x, y, n_iter = 1e4, eta = 1e-2):\n",
    "        self.yHat = np.full(shape=y.shape, fill_value=0)\n",
    "        self.eta = eta\n",
    "        indexes = np.arange(len(x))\n",
    "        np.random.shuffle(indexes)\n",
    "        i = 0\n",
    "        current_diff = 1\n",
    "        errors = []\n",
    "        while i < n_iter:\n",
    "            ind = indexes[i % len(x)]\n",
    "            self.x = x[ind]\n",
    "            self.y = y[ind]\n",
    "            self.forward()\n",
    "            self.backward()\n",
    "            errors.append(self.error(y, self.predict(x)))\n",
    "            i += 1\n",
    "        return (self.w1, self.w2), errors\n",
    "        \n",
    "    def predict(self, x):\n",
    "        self.x = x;\n",
    "        self.forward()\n",
    "        return np.round(self.yHat)"
   ]
  },
  {
   "cell_type": "code",
   "execution_count": 3,
   "metadata": {},
   "outputs": [
    {
     "name": "stdout",
     "output_type": "stream",
     "text": [
      "[[ -50  -21    0]\n",
      " [ -47   23    0]\n",
      " [-107   88    0]\n",
      " [  12   71    0]\n",
      " [  57  -32    1]]\n"
     ]
    }
   ],
   "source": [
    "train_x = np.array(np.random.randn(200,2)*50).astype(int)\n",
    "train_y = []\n",
    "for point in train_x:\n",
    "    train_y.append(0 if point[0] <= point[1] else 1)\n",
    "train_y = np.array(train_y)[:,np.newaxis]\n",
    "train_ans = np.hstack((train_x,train_y))\n",
    "\n",
    "print (train_ans[:5])"
   ]
  },
  {
   "cell_type": "code",
   "execution_count": 4,
   "metadata": {},
   "outputs": [
    {
     "data": {
      "image/png": "[encoded data removed]",
      "text/plain": [
       "<matplotlib.figure.Figure at 0x7f99697d9978>"
      ]
     },
     "metadata": {},
     "output_type": "display_data"
    }
   ],
   "source": [
    "class0_x = []\n",
    "class0_y = []\n",
    "class1_x = []\n",
    "class1_y = []\n",
    "for point in train_ans:\n",
    "    if point[2] == 0:\n",
    "        class0_x.append(point[0])\n",
    "        class0_y.append(point[1])\n",
    "    else:\n",
    "        class1_x.append(point[0])\n",
    "        class1_y.append(point[1])\n",
    "        \n",
    "plt.figure()\n",
    "plt.scatter(class1_x, class1_y, c='Green')\n",
    "plt.scatter(class0_x, class0_y, c='Blue')\n",
    "plt.show()"
   ]
  },
  {
   "cell_type": "code",
   "execution_count": 5,
   "metadata": {
    "collapsed": true
   },
   "outputs": [],
   "source": [
    "nn = NeuralNetwork(2,5,1)\n",
    "weights, errors = nn.train(train_x,train_y,n_iter=1e4,eta=1e-2)"
   ]
  },
  {
   "cell_type": "code",
   "execution_count": 6,
   "metadata": {},
   "outputs": [
    {
     "name": "stdout",
     "output_type": "stream",
     "text": [
      "[array([ 80.]), array([ 80.]), array([ 79.]), array([ 79.]), array([ 79.])]\n",
      "[array([ 0.]), array([ 0.]), array([ 0.]), array([ 0.]), array([ 0.])]\n"
     ]
    }
   ],
   "source": [
    "print (errors[:5])\n",
    "print (errors[-5:])"
   ]
  },
  {
   "cell_type": "code",
   "execution_count": 7,
   "metadata": {},
   "outputs": [
    {
     "name": "stdout",
     "output_type": "stream",
     "text": [
      "[[ 51. -47.   1.]\n",
      " [ 98. -91.   1.]\n",
      " [ 20. -22.   1.]\n",
      " [ 38.  17.   1.]\n",
      " [-62.  55.   0.]]\n"
     ]
    }
   ],
   "source": [
    "test_x = np.array(np.random.randn(100,2)*50).astype(int)\n",
    "test_y = []\n",
    "for point in test_x:\n",
    "    test_y.append(np.round(nn.predict(point)))\n",
    "test_ans = np.hstack((test_x,test_y))\n",
    "print (test_ans[:5])"
   ]
  },
  {
   "cell_type": "code",
   "execution_count": 8,
   "metadata": {},
   "outputs": [
    {
     "data": {
      "image/png": "[encoded data removed]",
      "text/plain": [
       "<matplotlib.figure.Figure at 0x7f996194e1d0>"
      ]
     },
     "metadata": {},
     "output_type": "display_data"
    }
   ],
   "source": [
    "class0_x = []\n",
    "class0_y = []\n",
    "class1_x = []\n",
    "class1_y = []\n",
    "for point in test_ans:\n",
    "    if point[2] == 0:\n",
    "        class0_x.append(point[0])\n",
    "        class0_y.append(point[1])\n",
    "    else:\n",
    "        class1_x.append(point[0])\n",
    "        class1_y.append(point[1])\n",
    "        \n",
    "plt.figure()\n",
    "plt.scatter(class1_x, class1_y, c='Green')\n",
    "plt.scatter(class0_x, class0_y, c='Blue')\n",
    "plt.show()"
   ]
  },
  {
   "cell_type": "code",
   "execution_count": 9,
   "metadata": {},
   "outputs": [
    {
     "name": "stderr",
     "output_type": "stream",
     "text": [
      "/home/masha/Anaconda/anaconda3/lib/python3.6/site-packages/sklearn/neural_network/multilayer_perceptron.py:912: DataConversionWarning: A column-vector y was passed when a 1d array was expected. Please change the shape of y to (n_samples, ), for example using ravel().\n",
      "  y = column_or_1d(y, warn=True)\n"
     ]
    }
   ],
   "source": [
    "from sklearn.neural_network import MLPClassifier\n",
    "clf = MLPClassifier(solver='lbfgs', alpha=1e-5,\n",
    "                     hidden_layer_sizes=(5, 1), random_state=1)\n",
    "clf.fit(train_x, train_y)    \n",
    "sklearn_y = clf.predict(test_x)\n",
    "sklearn_ans = np.hstack((test_x,sklearn_y[:,np.newaxis]))"
   ]
  },
  {
   "cell_type": "code",
   "execution_count": 10,
   "metadata": {},
   "outputs": [
    {
     "data": {
      "image/png": "[encoded data removed]",
      "text/plain": [
       "<matplotlib.figure.Figure at 0x7f996191e320>"
      ]
     },
     "metadata": {},
     "output_type": "display_data"
    }
   ],
   "source": [
    "class0_x = []\n",
    "class0_y = []\n",
    "class1_x = []\n",
    "class1_y = []\n",
    "for point in sklearn_ans:\n",
    "    if point[2] == 0:\n",
    "        class0_x.append(point[0])\n",
    "        class0_y.append(point[1])\n",
    "    else:\n",
    "        class1_x.append(point[0])\n",
    "        class1_y.append(point[1])\n",
    "        \n",
    "plt.figure()\n",
    "plt.scatter(class1_x, class1_y, c='Green')\n",
    "plt.scatter(class0_x, class0_y, c='Blue')\n",
    "plt.show()"
   ]
  }
 ],
 "metadata": {
  "kernelspec": {
   "display_name": "Python 3",
   "language": "python",
   "name": "python3"
  },
  "language_info": {
   "codemirror_mode": {
    "name": "ipython",
    "version": 3
   },
   "file_extension": ".py",
   "mimetype": "text/x-python",
   "name": "python",
   "nbconvert_exporter": "python",
   "pygments_lexer": "ipython3",
   "version": "3.6.3"
  }
 },
 "nbformat": 4,
 "nbformat_minor": 2
}
