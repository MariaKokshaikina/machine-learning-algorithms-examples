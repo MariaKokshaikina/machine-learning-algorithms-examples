{
 "cells": [
  {
   "cell_type": "code",
   "execution_count": 8,
   "metadata": {
    "collapsed": true
   },
   "outputs": [],
   "source": [
    "import pandas as pd\n",
    "import numpy as np\n",
    "from matplotlib import pyplot as plt"
   ]
  },
  {
   "cell_type": "code",
   "execution_count": 9,
   "metadata": {},
   "outputs": [
    {
     "name": "stdout",
     "output_type": "stream",
     "text": [
      "[[   0.          100.            0.        ]\n",
      " [   0.1          99.9           4.46989933]\n",
      " [   0.2          99.8           6.3182276 ]\n",
      " ..., \n",
      " [  99.7           0.3           7.73433902]\n",
      " [  99.8           0.2           6.3182276 ]\n",
      " [  99.9           0.1           4.46989933]]\n"
     ]
    }
   ],
   "source": [
    "# x^2 + y^2 + z^2 = R^2\n",
    "radius = 100 \n",
    "x = np.arange(0, radius, 0.1)\n",
    "y = np.arange(radius, 0 , -0.1)\n",
    "z = (radius ** 2 - x ** 2 - y ** 2) ** (1/2)\n",
    "x = np.vstack((x,y,z)).T\n",
    "print (x)"
   ]
  },
  {
   "cell_type": "code",
   "execution_count": 10,
   "metadata": {
    "collapsed": true
   },
   "outputs": [],
   "source": [
    "def norm(x):\n",
    "    means, stds = x.mean(axis = 0), x.std(axis = 0)\n",
    "    x = (x - means) / stds\n",
    "    return x, (means, stds)"
   ]
  },
  {
   "cell_type": "code",
   "execution_count": 11,
   "metadata": {
    "collapsed": true
   },
   "outputs": [],
   "source": [
    "def transform(x, n_components):\n",
    "    cov = np.dot(x.T, x)\n",
    "    a, v = np.linalg.eig(cov)\n",
    "    index = np.argsort(-a)\n",
    "    v = v[:,index]\n",
    "    return np.dot(x, v[:,:n_components]), v[:,:n_components]"
   ]
  },
  {
   "cell_type": "code",
   "execution_count": 12,
   "metadata": {
    "collapsed": true
   },
   "outputs": [],
   "source": [
    "def restore(x, v, norm_params):\n",
    "    x = np.dot(x, v.T) \n",
    "    means, stds = norm_params\n",
    "    x = x * stds + means\n",
    "    return x"
   ]
  },
  {
   "cell_type": "code",
   "execution_count": 13,
   "metadata": {
    "collapsed": true
   },
   "outputs": [],
   "source": [
    "def error(x1,x2):\n",
    "    return np.ndarray.sum((x1-x2)**2)"
   ]
  },
  {
   "cell_type": "code",
   "execution_count": 14,
   "metadata": {
    "collapsed": true
   },
   "outputs": [],
   "source": [
    "def plot(x, x_restored, number_of_components):\n",
    "    plt.figure()\n",
    "    plt.scatter(x[:, 0], x[:, 2], color='c', label='Initial')\n",
    "    plt.scatter(x_restored[:, 0], x_restored[:, 2], color='y', label='Restored')\n",
    "    plt.legend(loc='best')\n",
    "    plt.xlabel('x')\n",
    "    plt.ylabel('y')\n",
    "    plt.title('Number of components: ' + str(number_of_components))\n",
    "    plt.show()"
   ]
  },
  {
   "cell_type": "code",
   "execution_count": 15,
   "metadata": {},
   "outputs": [
    {
     "name": "stdout",
     "output_type": "stream",
     "text": [
      "[[  -0.61477903  100.61477903   55.19723331]\n",
      " [  -0.46500503  100.46500503   55.19823135]\n",
      " [  -0.34442756  100.34442756   55.19903483]\n",
      " ..., \n",
      " [  99.16395954    0.83604046   55.86212025]\n",
      " [  99.24818084    0.75181916   55.86268147]\n",
      " [  99.32758852    0.67241148   55.86321061]]\n"
     ]
    },
    {
     "data": {
      "image/png": "[encoded data removed]",
      "text/plain": [
       "<matplotlib.figure.Figure at 0x7fe9eb3e16d8>"
      ]
     },
     "metadata": {},
     "output_type": "display_data"
    },
    {
     "name": "stdout",
     "output_type": "stream",
     "text": [
      "[[  1.42108547e-14   1.00000000e+02  -7.10542736e-15]\n",
      " [  1.00000000e-01   9.99000000e+01   4.46989933e+00]\n",
      " [  2.00000000e-01   9.98000000e+01   6.31822760e+00]\n",
      " ..., \n",
      " [  9.97000000e+01   3.00000000e-01   7.73433902e+00]\n",
      " [  9.98000000e+01   2.00000000e-01   6.31822760e+00]\n",
      " [  9.99000000e+01   1.00000000e-01   4.46989933e+00]]\n"
     ]
    },
    {
     "data": {
      "image/png": "[encoded data removed]",
      "text/plain": [
       "<matplotlib.figure.Figure at 0x7fe9e2d75d68>"
      ]
     },
     "metadata": {},
     "output_type": "display_data"
    }
   ],
   "source": [
    "for number_of_components in (1,2):\n",
    "    x_normed, norm_params = norm(x)\n",
    "    x_transformed, v = transform(x_normed, number_of_components)\n",
    "    x_restored = restore(x_transformed, v, norm_params)\n",
    "    print (x_restored)\n",
    "    plot(x,x_restored,number_of_components)"
   ]
  }
 ],
 "metadata": {
  "kernelspec": {
   "display_name": "Python 3",
   "language": "python",
   "name": "python3"
  },
  "language_info": {
   "codemirror_mode": {
    "name": "ipython",
    "version": 3
   },
   "file_extension": ".py",
   "mimetype": "text/x-python",
   "name": "python",
   "nbconvert_exporter": "python",
   "pygments_lexer": "ipython3",
   "version": "3.6.3"
  }
 },
 "nbformat": 4,
 "nbformat_minor": 2
}
