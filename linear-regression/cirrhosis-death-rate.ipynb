{
 "cells": [
  {
   "cell_type": "markdown",
   "metadata": {},
   "source": [
    "## Task\n",
    "Try to predict death rate from cirrhosis"
   ]
  },
  {
   "cell_type": "code",
   "execution_count": 1,
   "metadata": {
    "collapsed": true
   },
   "outputs": [],
   "source": [
    "import pandas as pd\n",
    "import numpy as np"
   ]
  },
  {
   "cell_type": "code",
   "execution_count": 2,
   "metadata": {},
   "outputs": [
    {
     "data": {
      "text/html": [
       "<div>\n",
       "<style>\n",
       "    .dataframe thead tr:only-child th {\n",
       "        text-align: right;\n",
       "    }\n",
       "\n",
       "    .dataframe thead th {\n",
       "        text-align: left;\n",
       "    }\n",
       "\n",
       "    .dataframe tbody tr th {\n",
       "        vertical-align: top;\n",
       "    }\n",
       "</style>\n",
       "<table border=\"1\" class=\"dataframe\">\n",
       "  <thead>\n",
       "    <tr style=\"text-align: right;\">\n",
       "      <th></th>\n",
       "      <th>Urban</th>\n",
       "      <th>Latebirths</th>\n",
       "      <th>Wine</th>\n",
       "      <th>Liquor</th>\n",
       "      <th>CirrhosisDeath</th>\n",
       "    </tr>\n",
       "    <tr>\n",
       "      <th>Index</th>\n",
       "      <th></th>\n",
       "      <th></th>\n",
       "      <th></th>\n",
       "      <th></th>\n",
       "      <th></th>\n",
       "    </tr>\n",
       "  </thead>\n",
       "  <tbody>\n",
       "    <tr>\n",
       "      <th>1</th>\n",
       "      <td>44</td>\n",
       "      <td>33.2</td>\n",
       "      <td>5</td>\n",
       "      <td>30</td>\n",
       "      <td>41.2</td>\n",
       "    </tr>\n",
       "    <tr>\n",
       "      <th>2</th>\n",
       "      <td>43</td>\n",
       "      <td>33.8</td>\n",
       "      <td>4</td>\n",
       "      <td>41</td>\n",
       "      <td>31.7</td>\n",
       "    </tr>\n",
       "    <tr>\n",
       "      <th>3</th>\n",
       "      <td>48</td>\n",
       "      <td>40.6</td>\n",
       "      <td>3</td>\n",
       "      <td>38</td>\n",
       "      <td>39.4</td>\n",
       "    </tr>\n",
       "    <tr>\n",
       "      <th>4</th>\n",
       "      <td>52</td>\n",
       "      <td>39.2</td>\n",
       "      <td>7</td>\n",
       "      <td>48</td>\n",
       "      <td>57.5</td>\n",
       "    </tr>\n",
       "    <tr>\n",
       "      <th>5</th>\n",
       "      <td>71</td>\n",
       "      <td>45.5</td>\n",
       "      <td>11</td>\n",
       "      <td>53</td>\n",
       "      <td>74.8</td>\n",
       "    </tr>\n",
       "  </tbody>\n",
       "</table>\n",
       "</div>"
      ],
      "text/plain": [
       "       Urban  Latebirths  Wine  Liquor  CirrhosisDeath\n",
       "Index                                                 \n",
       "1         44        33.2     5      30            41.2\n",
       "2         43        33.8     4      41            31.7\n",
       "3         48        40.6     3      38            39.4\n",
       "4         52        39.2     7      48            57.5\n",
       "5         71        45.5    11      53            74.8"
      ]
     },
     "execution_count": 2,
     "metadata": {},
     "output_type": "execute_result"
    }
   ],
   "source": [
    "# read data\n",
    "\n",
    "data = pd.read_csv('data.csv', delimiter=';', index_col='Index')\n",
    "data.head(5)"
   ]
  },
  {
   "cell_type": "code",
   "execution_count": 3,
   "metadata": {
    "collapsed": true
   },
   "outputs": [],
   "source": [
    "# split into train and test dataset\n",
    "\n",
    "ratio = 0.67\n",
    "n_train = int(len(data) * ratio)\n",
    "n_test = len(data) - n_train\n",
    "indexes = np.zeros(data.shape[0])\n",
    "indexes[np.random.choice(len(data), n_train, replace=False)] = 1\n",
    "\n",
    "X = np.array(data[indexes == 1].values)[:,:-1]\n",
    "y = np.array(data[indexes == 1].values)[:,-1]\n",
    "test_x = np.array(data[indexes == 0].values)[:,:-1]\n",
    "test_y = np.array(data[indexes == 0].values)[:,-1]"
   ]
  },
  {
   "cell_type": "code",
   "execution_count": 4,
   "metadata": {
    "collapsed": true
   },
   "outputs": [],
   "source": [
    "# regularize data\n",
    "\n",
    "means, stds = X.mean(axis=0), X.std(axis=0)\n",
    "X = (X - means) / stds"
   ]
  },
  {
   "cell_type": "code",
   "execution_count": 5,
   "metadata": {},
   "outputs": [
    {
     "data": {
      "text/plain": [
       "array([[ 1.        , -0.77921144, -1.04229367, -1.00697242, -1.50440518],\n",
       "       [ 1.        , -0.84138256, -0.96232229, -1.14813677, -0.91056103],\n",
       "       [ 1.        , -0.28184244, -0.24257986, -0.7246437 , -0.53266021],\n",
       "       [ 1.        ,  0.89940895,  0.59711965, -0.15998627, -0.26273105],\n",
       "       [ 1.        , -0.77921144, -0.46916544, -0.44231499,  0.38509893]])"
      ]
     },
     "execution_count": 5,
     "metadata": {},
     "output_type": "execute_result"
    }
   ],
   "source": [
    "X = np.hstack((np.ones((X.shape[0], 1)), X))\n",
    "X[:5]"
   ]
  },
  {
   "cell_type": "code",
   "execution_count": 6,
   "metadata": {
    "collapsed": true
   },
   "outputs": [],
   "source": [
    "def mserror(y, y_pred):\n",
    "    # mean square error of prediction\n",
    "    return sum((y-y_pred)**2)"
   ]
  },
  {
   "cell_type": "code",
   "execution_count": 7,
   "metadata": {
    "collapsed": true
   },
   "outputs": [],
   "source": [
    "def linear_prediction(X, w):\n",
    "    # linear prediction for X with weights w\n",
    "    return X.dot(w)"
   ]
  },
  {
   "cell_type": "markdown",
   "metadata": {},
   "source": [
    "$$\\Large w_0 \\leftarrow w_0 - \\frac{2\\eta}{\\ell} {((w_0 + w_1x_{k1} + w_2x_{k2} +  w_3x_{k3}) - y_k)}$$\n",
    "$$\\Large w_j \\leftarrow w_j - \\frac{2\\eta}{\\ell} {x_{kj}((w_0 + w_1x_{k1} + w_2x_{k2} +  w_3x_{k3}) - y_k)},\\ j \\in \\{1,2,3\\}$$"
   ]
  },
  {
   "cell_type": "code",
   "execution_count": 8,
   "metadata": {
    "collapsed": true
   },
   "outputs": [],
   "source": [
    "def stochastic_gradient_step(X, y, w, train_ind, eta=0.01):\n",
    "    # count gradient for current iteration\n",
    "    prediction = linear_prediction(X[train_ind], w)\n",
    "    answer = y[train_ind]\n",
    "    difference = prediction - answer\n",
    "    grads = []\n",
    "    grad_0 =  difference\n",
    "    grads.append(grad_0)\n",
    "    for i in range(1, len(X[train_ind])):\n",
    "        grad_i = X[train_ind][i] * difference\n",
    "        grads.append(grad_i)\n",
    "    return  w - 2 * eta / len(X) * np.array(grads)"
   ]
  },
  {
   "cell_type": "code",
   "execution_count": 9,
   "metadata": {
    "collapsed": true
   },
   "outputs": [],
   "source": [
    "def stochastic_gradient_descent(X, y, w_init, eta=1e-2, max_iter=1e4,\n",
    "                                min_weight_dist=1e-8, seed=42, verbose=False):\n",
    "    # use stochastic gradient descent in order to find the most exact weights\n",
    "    weight_dist = np.inf # init difference between current and previous weights\n",
    "    w = w_init # init weights with given value\n",
    "    errors = [] # errors between predicted and real results in dataset\n",
    "    iter_num = 0\n",
    "    np.random.seed(seed)\n",
    "        \n",
    "    while weight_dist > min_weight_dist and iter_num < max_iter:\n",
    "        random_ind = np.random.randint(X.shape[0])\n",
    "        \n",
    "        w_moved = stochastic_gradient_step(X, y, w, random_ind, eta) # weights moved by gradiend descent\n",
    "        weight_dist = np.sqrt(np.sum((w_moved-w)**2)) \n",
    "        w = w_moved\n",
    "        \n",
    "        y_pred = linear_prediction(X, w)\n",
    "        errors.append(mserror(y, y_pred)) # count error on dataset\n",
    "        if verbose:\n",
    "            print(w)\n",
    "        iter_num += 1\n",
    "        \n",
    "    return w, errors"
   ]
  },
  {
   "cell_type": "code",
   "execution_count": 10,
   "metadata": {},
   "outputs": [
    {
     "name": "stdout",
     "output_type": "stream",
     "text": [
      "[ 63.37941161  -4.02104386  11.5441326   14.06798893   1.53846716]\n",
      "CPU times: user 3.34 s, sys: 15.2 ms, total: 3.35 s\n",
      "Wall time: 3.34 s\n"
     ]
    }
   ],
   "source": [
    "%%time\n",
    "w_init = np.full(X.shape[1], 0)\n",
    "stoch_grad_desc_weights, stoch_errors_by_iter = stochastic_gradient_descent(X, y, w_init, max_iter=1e5, verbose=False)\n",
    "print(stoch_grad_desc_weights)"
   ]
  },
  {
   "cell_type": "code",
   "execution_count": 11,
   "metadata": {},
   "outputs": [
    {
     "name": "stdout",
     "output_type": "stream",
     "text": [
      "Error by iter\n",
      "Populating the interactive namespace from numpy and matplotlib\n"
     ]
    },
    {
     "data": {
      "text/plain": [
       "Text(0,0.5,'MSE')"
      ]
     },
     "execution_count": 11,
     "metadata": {},
     "output_type": "execute_result"
    },
    {
     "data": {
      "image/png": "[encoded data removed]",
      "text/plain": [
       "<matplotlib.figure.Figure at 0x7fe9140386d8>"
      ]
     },
     "metadata": {},
     "output_type": "display_data"
    }
   ],
   "source": [
    "print ('Error by iter')\n",
    "%pylab inline\n",
    "plot(range(len(stoch_errors_by_iter)), stoch_errors_by_iter)\n",
    "xlabel('Iteration number')\n",
    "ylabel('MSE')"
   ]
  },
  {
   "cell_type": "code",
   "execution_count": 12,
   "metadata": {},
   "outputs": [
    {
     "name": "stdout",
     "output_type": "stream",
     "text": [
      "Result error 3027.72025385\n"
     ]
    }
   ],
   "source": [
    "print ('Result error', stoch_errors_by_iter[-1])"
   ]
  },
  {
   "cell_type": "code",
   "execution_count": 13,
   "metadata": {},
   "outputs": [
    {
     "name": "stdout",
     "output_type": "stream",
     "text": [
      "Result weights\n"
     ]
    },
    {
     "data": {
      "text/plain": [
       "array([ 63.37941161,  -4.02104386,  11.5441326 ,  14.06798893,   1.53846716])"
      ]
     },
     "execution_count": 13,
     "metadata": {},
     "output_type": "execute_result"
    }
   ],
   "source": [
    "print ('Result weights')\n",
    "stoch_grad_desc_weights"
   ]
  },
  {
   "cell_type": "code",
   "execution_count": 14,
   "metadata": {
    "collapsed": true
   },
   "outputs": [],
   "source": [
    "# means, stds from training data\n",
    "test_x = (test_x - means) / stds"
   ]
  },
  {
   "cell_type": "code",
   "execution_count": 15,
   "metadata": {
    "collapsed": true
   },
   "outputs": [],
   "source": [
    "test_x = np.hstack((np.ones((test_x.shape[0], 1)), test_x))"
   ]
  },
  {
   "cell_type": "code",
   "execution_count": 16,
   "metadata": {},
   "outputs": [
    {
     "data": {
      "text/plain": [
       "array([[  39.4       ,   45.07853498],\n",
       "       [  56.6       ,   61.25516103],\n",
       "       [  80.9       ,   66.60872266],\n",
       "       [  70.3       ,   65.85526021],\n",
       "       [  52.3       ,   39.12441167],\n",
       "       [  86.9       ,   81.78434242],\n",
       "       [  66.6       ,   56.52669136],\n",
       "       [  98.1       ,   80.67039628],\n",
       "       [  66.7       ,   70.20191348],\n",
       "       [  48.        ,   59.13183046],\n",
       "       [ 122.5       ,  120.77468903],\n",
       "       [  33.8       ,   45.76510629],\n",
       "       [  28.        ,   49.60628545],\n",
       "       [  51.6       ,   37.42523833],\n",
       "       [  55.7       ,   49.42397942],\n",
       "       [  55.5       ,   68.93938063]])"
      ]
     },
     "execution_count": 16,
     "metadata": {},
     "output_type": "execute_result"
    }
   ],
   "source": [
    "test_y_pred = test_x.dot(stoch_grad_desc_weights)\n",
    "\n",
    "result = np.vstack((test_y.T, test_y_pred.T)).T\n",
    "result"
   ]
  },
  {
   "cell_type": "markdown",
   "metadata": {},
   "source": [
    "## Sklearn\n",
    "Compare with sklearn"
   ]
  },
  {
   "cell_type": "code",
   "execution_count": 17,
   "metadata": {
    "collapsed": true
   },
   "outputs": [],
   "source": [
    "from sklearn import linear_model\n",
    "from sklearn.metrics import mean_squared_error, r2_score"
   ]
  },
  {
   "cell_type": "code",
   "execution_count": 18,
   "metadata": {},
   "outputs": [
    {
     "name": "stdout",
     "output_type": "stream",
     "text": [
      "Coefficients: \n",
      " [  0.          -3.82647816  11.64845851  14.00562273   1.23084876]\n",
      "Mean squared error: 124.00\n",
      "Variance score: 0.78\n"
     ]
    }
   ],
   "source": [
    "# Create linear regression object\n",
    "regr = linear_model.LinearRegression()\n",
    "\n",
    "# Train the model using the training sets\n",
    "regr.fit(X, y)\n",
    "\n",
    "# Make predictions using the testing set\n",
    "sklearn_test_y = regr.predict(test_x)\n",
    "\n",
    "# The coefficients\n",
    "print('Coefficients: \\n', regr.coef_)\n",
    "# The mean squared error\n",
    "print(\"Mean squared error: %.2f\"\n",
    "      % mean_squared_error(test_y, sklearn_test_y))\n",
    "# Explained variance score: 1 is perfect prediction\n",
    "print('Variance score: %.2f' % r2_score(test_y, sklearn_test_y))"
   ]
  },
  {
   "cell_type": "code",
   "execution_count": 19,
   "metadata": {},
   "outputs": [
    {
     "data": {
      "text/plain": [
       "array([[  39.4       ,   45.07853498,   45.59372944],\n",
       "       [  56.6       ,   61.25516103,   61.56588177],\n",
       "       [  80.9       ,   66.60872266,   67.25326529],\n",
       "       [  70.3       ,   65.85526021,   66.1415334 ],\n",
       "       [  52.3       ,   39.12441167,   39.72427183],\n",
       "       [  86.9       ,   81.78434242,   82.05457105],\n",
       "       [  66.6       ,   56.52669136,   57.17446473],\n",
       "       [  98.1       ,   80.67039628,   81.16351702],\n",
       "       [  66.7       ,   70.20191348,   70.49875679],\n",
       "       [  48.        ,   59.13183046,   59.33083776],\n",
       "       [ 122.5       ,  120.77468903,  119.50769658],\n",
       "       [  33.8       ,   45.76510629,   45.565598  ],\n",
       "       [  28.        ,   49.60628545,   49.50230183],\n",
       "       [  51.6       ,   37.42523833,   37.91799226],\n",
       "       [  55.7       ,   49.42397942,   50.02530923],\n",
       "       [  55.5       ,   68.93938063,   69.21646273]])"
      ]
     },
     "execution_count": 19,
     "metadata": {},
     "output_type": "execute_result"
    }
   ],
   "source": [
    "compare = np.vstack((test_y.T, test_y_pred.T, sklearn_test_y.T)).T\n",
    "compare"
   ]
  }
 ],
 "metadata": {
  "kernelspec": {
   "display_name": "Python 3",
   "language": "python",
   "name": "python3"
  },
  "language_info": {
   "codemirror_mode": {
    "name": "ipython",
    "version": 3
   },
   "file_extension": ".py",
   "mimetype": "text/x-python",
   "name": "python",
   "nbconvert_exporter": "python",
   "pygments_lexer": "ipython3",
   "version": "3.6.3"
  }
 },
 "nbformat": 4,
 "nbformat_minor": 2
}
